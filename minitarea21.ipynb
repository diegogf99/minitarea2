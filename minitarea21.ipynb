{
  "nbformat": 4,
  "nbformat_minor": 0,
  "metadata": {
    "colab": {
      "name": "minitarea2.ipynb",
      "version": "0.3.2",
      "provenance": []
    },
    "kernelspec": {
      "display_name": "Python 2",
      "language": "python",
      "name": "python2"
    }
  },
  "cells": [
    {
      "metadata": {
        "id": "7EjDgfbFlLHz",
        "colab_type": "text"
      },
      "cell_type": "markdown",
      "source": [
        "# EI2001: Ciencia de Datos en Astronomía\n",
        "\n",
        "**Profesores:** Pía Cortés, Daniela Barrientos, Matías Suazo, Matías Mattamala\n",
        "\n",
        "## Minitarea 2: Uso de NumPy y matplotlib\n",
        "\n",
        "**Objetivos:**\n",
        "\n",
        "1. Poner en práctica el uso de librerías en python (específicamente NumPy y matplotlib)\n",
        "2. Familiarizarse con el concepto de ndarray\n",
        "3. Realizar gráficos personalizados\n",
        "\n",
        "\n",
        "**Instrucciones:**\n",
        "\n",
        "1. Lean cuidadosamente todo lo que viene ahora\n",
        "2. Para hacer esta tarea deben que hacer un **fork** del repositorio en sus cuentas de GitHub.\n",
        "4. Abrir [Google Colab](https://colab.research.google.com) y seleccionar \"abrir un archivo desde GitHub\". Deben seleccionar su cuenta Github y escoger el repositorio que corresponde al fork que hicieron.\n",
        "5. Si todo sale bien, debería abrirse una copia de este notebook en su cuenta de Google Colab.\n",
        "6. Se adjuntan 6 mini actividades a completar. **TODAS** son necesarias y deben completar lo que se va pidiendo.\n",
        "7. Cada vez que completen un ítem, deben guardar un avance en su fork de GitHub, de modo de **respaldar cada avance significativo**. Usen comentarios coherentes con cada respaldo \"Sección 1 completa\", \"Tarea terminada\", no solamente el que pone por defecto.\n",
        "\n"
      ]
    },
    {
      "metadata": {
        "id": "s6vpSBEilLH2",
        "colab_type": "text"
      },
      "cell_type": "markdown",
      "source": [
        "## 1. Cargar datos\n",
        "\n",
        "Para esta minitarea trabajaremos con la fotometría de algunas estrellas. El objetivo final de esta actividad es obtener un gráfico llamado **Diagrama de Color-Magnitud (CMD)**, este es una variante del [Diagrama de Hertzsprung Russell](https://en.wikipedia.org/wiki/Hertzsprung%E2%80%93Russell_diagram) (o diagrama HR) cuyo objetivo es ver la distribución en Brillo y Color (Luminosidad y Temperatura para el diagrama HR) de las estrellas de una población. Con este se puede reconocer las distintas etapas evolutivas en las que se encuentran las estrellas, sus edades y metalicidades. \n",
        "\n",
        "\n",
        "Comienza por cargar los datos de una población sintética. En el repositorio se encuentra el archivo de texto llamado **`phot.dat`** que contiene:\n",
        "\n",
        "1. Fotometría en las bandas B, V, R, I (magnitud aparente)\n",
        "2. Temperatura ($log_{10}(T_{eff} / K)$)\n",
        "3. Masa [$M_{\\odot}$]\n",
        "4. Distancia [kpc] \n",
        "\n",
        "\n",
        "* Carga los datos a formato `ndarray` en la variable `datos` e inspecciona su forma y tamaño, como tambien las diferentes columnas."
      ]
    },
    {
      "metadata": {
        "id": "Fo6yEiarlLH5",
        "colab_type": "code",
        "colab": {
          "base_uri": "https://localhost:8080/",
          "height": 34
        },
        "outputId": "56ede578-09cd-4c55-e6c8-5efd0dd5c68d"
      },
      "cell_type": "code",
      "source": [
        "import numpy as np\n",
        "\n",
        "# Carga los datos a un ndarray\n",
        "\n",
        "archivo = 'https://raw.githubusercontent.com/astrodatos/minitarea2/master/phot.dat'\n",
        "datos = np.loadtxt(archivo)\n",
        "\n",
        "datos.shape\n",
        "\n",
        "# Inspecciona su forma y tamaño"
      ],
      "execution_count": 2,
      "outputs": [
        {
          "output_type": "execute_result",
          "data": {
            "text/plain": [
              "(5298, 7)"
            ]
          },
          "metadata": {
            "tags": []
          },
          "execution_count": 2
        }
      ]
    },
    {
      "metadata": {
        "id": "iNMJL4-HlLIB",
        "colab_type": "text"
      },
      "cell_type": "markdown",
      "source": [
        "## 2. Histogramas\n",
        "\n",
        "El siguiente paso es inspeccionar los elementos en las diferentes columnas. Para ello crearás histogramas de algunas variables de interés. \n",
        "\n",
        "* Haz una figura con dos gráficos, uno al lado del otro, que contengan:\n",
        "\n",
        "    1. Un histograma con las distribuciones de las magnitudes en las bandas B y V\n",
        "    2. Un histograma con la distribución de masas\n",
        "\n",
        "No olvides poner nombres a los ejes, titulos, leyendas, etc. Se creativo en el estilo de tu gráfico!"
      ]
    },
    {
      "metadata": {
        "id": "ZoJTr2P8lLIC",
        "colab_type": "code",
        "colab": {}
      },
      "cell_type": "code",
      "source": [
        "#Plotear histogramas de cada columna\n",
        "\n",
        "import matplotlib.pyplot as plt\n",
        "%matplotlib inline\n",
        "\n",
        "fig, ax = plt.subplots()"
      ],
      "execution_count": 0,
      "outputs": []
    },
    {
      "metadata": {
        "id": "HMrWRTfJlLIK",
        "colab_type": "text"
      },
      "cell_type": "markdown",
      "source": [
        "## 3. Filtrar datos\n",
        "\n",
        "Como te habrás dado cuenta hay dos distribuciones de distancia. La mayoría de las estrellas corresponden a la población sintética creada, mientras que el resto son estrellas de fondo. Para estudiar nuestro cúmulo, primero debemos filtrar las estrellas que no pertenecen a él. \n",
        "\n",
        "* Haz una copia del set de datos originales en la variable `datos_filtrados` y sólo utiliza las estrellas que cumplan con un criterio basado en el histograma anterior.\n",
        "* Imprime en pantalla el tamaño original del set de datos y del nuevo filtrado con el siguiente formato: _\"El set original contenía X estrellas, luego de filtrar quedaron X\"_\n"
      ]
    },
    {
      "metadata": {
        "id": "Ah_eOCjllLIO",
        "colab_type": "code",
        "colab": {}
      },
      "cell_type": "code",
      "source": [
        "#Filtrar por distancia\n",
        "\n",
        "datos_filtrados = \n",
        "\n",
        "\n",
        "print()"
      ],
      "execution_count": 0,
      "outputs": []
    },
    {
      "metadata": {
        "id": "4j05HKdDlLIV",
        "colab_type": "text"
      },
      "cell_type": "markdown",
      "source": [
        "## 4. Función Magnitud Absoluta\n",
        "\n",
        "Para hacer el CMD necesitamos la magnitud absoluta de nuestras estrellas. Para esto crearemos una función que la calcule.\n",
        "\n",
        "* Crea la función **`mag_abs(mag_ap, dist)`** de la siguiente forma:\n",
        "    * **Input:** \n",
        "        1. `mag_ap`: ndarray de magnitudes aparentes\n",
        "        2. `dist`: ndarray de distancias en unidades de [parsec]\n",
        "    * **Output:**\n",
        "        1. `mag_abs`: ndarray de magnitudes absolutas calculadas como: $M = m - 5 \\log_{10} (d_{pc}) + 5 $"
      ]
    },
    {
      "metadata": {
        "id": "lajS3V4KlLIa",
        "colab_type": "code",
        "colab": {}
      },
      "cell_type": "code",
      "source": [
        "#Funcion mag_abs(mag, dist)\n",
        "\n",
        "def mag_abs(mag_ap, dist):\n",
        "    \n",
        "    \n",
        "    return "
      ],
      "execution_count": 0,
      "outputs": []
    },
    {
      "metadata": {
        "id": "XY_Cr3j3lLIh",
        "colab_type": "text"
      },
      "cell_type": "markdown",
      "source": [
        "## 5. CMD\n",
        "\n",
        "Ahora podemos graficar nuestro Diagrama Color Magnitud. \n",
        "\n",
        "* Crea los siguientes arreglos:\n",
        "    1. `MV`: magnitud absoluta en la banda V\n",
        "    2. `color`: resta entre las magnitudes B y V (B-V)\n",
        "* Grafica MV vs color como se muestra en la siguiente [figura](https://www.astro.rug.nl/~ahelmi/galaxies_course/class_II/47tuc.gif). (**Hint: pon atención a los ejes)"
      ]
    },
    {
      "metadata": {
        "id": "1EpTClT4lLIi",
        "colab_type": "code",
        "colab": {}
      },
      "cell_type": "code",
      "source": [
        "#Crear arrays MV y color\n",
        "\n",
        "\n",
        "#plot cmd\n"
      ],
      "execution_count": 0,
      "outputs": []
    },
    {
      "metadata": {
        "id": "JLkSfp1zlLIv",
        "colab_type": "text"
      },
      "cell_type": "markdown",
      "source": [
        "## 6. Densidades y otros\n",
        "\n",
        "Ahora crearemos gráficos con un poco más de información en color. \n",
        "* Haz una figura con dos gráficos, uno al lado del otro:\n",
        "    1. `MV vs color`, poninedo las masas de cada estrella en color (recuerda la barra de colores)\n",
        "    2. `MV vs color`, poniendo la Temperatura de cada estrella en color\n",
        "* Haz una figura con un gráfico que contenga:\n",
        "    1. [Histograma en 2D](https://matplotlib.org/api/_as_gen/matplotlib.pyplot.hist2d.html) con ejes `MV vs color` (esta figura muestra la densidad de estrellas en el espacio `MV vs color`)\n",
        "    \n",
        "No olvides poner **SIEMPRE** ejes a tus figuras, titulos, leyendas, etc. Elige mapas de colores donde se noten las características de los gráficos."
      ]
    },
    {
      "metadata": {
        "id": "jw11nFPWlLIw",
        "colab_type": "code",
        "colab": {}
      },
      "cell_type": "code",
      "source": [
        "# plot cmd + masa / smd + temp"
      ],
      "execution_count": 0,
      "outputs": []
    },
    {
      "metadata": {
        "id": "EbfFmozglLI3",
        "colab_type": "code",
        "colab": {}
      },
      "cell_type": "code",
      "source": [
        "# plot cmd hist2D"
      ],
      "execution_count": 0,
      "outputs": []
    }
  ]
}